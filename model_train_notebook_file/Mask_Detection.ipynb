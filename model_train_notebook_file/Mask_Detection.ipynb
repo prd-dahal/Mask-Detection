{
  "nbformat": 4,
  "nbformat_minor": 0,
  "metadata": {
    "colab": {
      "name": "Mask_Detection.ipynb",
      "provenance": [],
      "collapsed_sections": []
    },
    "kernelspec": {
      "name": "python3",
      "display_name": "Python 3"
    },
    "accelerator": "TPU"
  },
  "cells": [
    {
      "cell_type": "code",
      "metadata": {
        "id": "y8xUXbPnN_SP",
        "colab_type": "code",
        "colab": {
          "base_uri": "https://localhost:8080/",
          "height": 74
        },
        "outputId": "8fff61f8-0c8e-4421-8b7c-0a6aaf31a36b"
      },
      "source": [
        "from google.colab import drive\n",
        "drive.mount('/content/gdrive')\n",
        "import os\n",
        "print(os.listdir('/content/gdrive/My Drive/face_mask-dataset/train'))"
      ],
      "execution_count": 12,
      "outputs": [
        {
          "output_type": "stream",
          "text": [
            "Drive already mounted at /content/gdrive; to attempt to forcibly remount, call drive.mount(\"/content/gdrive\", force_remount=True).\n",
            "['without_mask', 'with_mask']\n"
          ],
          "name": "stdout"
        }
      ]
    },
    {
      "cell_type": "code",
      "metadata": {
        "id": "Jx_AAibwQ7CP",
        "colab_type": "code",
        "colab": {
          "base_uri": "https://localhost:8080/",
          "height": 35
        },
        "outputId": "aafd6c56-cbd2-4a59-ec02-5bf309c0a27e"
      },
      "source": [
        "import tensorflow as tf\n",
        "from keras import Model, Sequential, layers, models\n",
        "from keras.applications import MobileNetV2\n",
        "from keras.optimizers import Adam\n",
        "from PIL import ImageFile\n",
        "from keras.preprocessing.image import ImageDataGenerator"
      ],
      "execution_count": 2,
      "outputs": [
        {
          "output_type": "stream",
          "text": [
            "Using TensorFlow backend.\n"
          ],
          "name": "stderr"
        }
      ]
    },
    {
      "cell_type": "code",
      "metadata": {
        "id": "e93w-VKDSctq",
        "colab_type": "code",
        "colab": {}
      },
      "source": [
        "image_width = 224 \n",
        "image_height = 224 \n",
        "batch_size = 32\n",
        "epochs = 20\n",
        "initial_lr = 1e-4\n",
        "train_path = '/content/gdrive/My Drive/face_mask-dataset/train'\n",
        "valid_path = '/content/gdrive/My Drive/face_mask-dataset/valid'"
      ],
      "execution_count": 3,
      "outputs": []
    },
    {
      "cell_type": "code",
      "metadata": {
        "id": "BIGBRN1RRTUe",
        "colab_type": "code",
        "colab": {
          "base_uri": "https://localhost:8080/",
          "height": 110
        },
        "outputId": "783e53f4-12dc-460e-cf59-55bd49fc7e2e"
      },
      "source": [
        "base_model = MobileNetV2(weights='imagenet', include_top=False,input_tensor= layers.Input(shape=(224,224,3)))\n",
        "head_model = base_model.output\n",
        "head_model = layers.AveragePooling2D((7,7))(head_model)\n",
        "head_model = layers.Flatten(name='Flatten')(head_model)\n",
        "head_model = layers.Dense(128,activation='relu')(head_model)\n",
        "head_model = layers.Dropout(0.5)(head_model)\n",
        "head_model = layers.Dense(2, activation='softmax')(head_model)\n",
        "\n",
        "model = Model(inputs=base_model.input, outputs= head_model)\n",
        "\n",
        "for layer in base_model.layers:\n",
        "  layer.trainable=False\n",
        "\n",
        "opt = Adam(learning_rate=initial_lr, decay = initial_lr/epochs)\n",
        "model.compile(loss='binary_crossentropy',optimizer= opt, metrics =['accuracy'])"
      ],
      "execution_count": 4,
      "outputs": [
        {
          "output_type": "stream",
          "text": [
            "/usr/local/lib/python3.6/dist-packages/keras_applications/mobilenet_v2.py:294: UserWarning: `input_shape` is undefined or non-square, or `rows` is not in [96, 128, 160, 192, 224]. Weights for input shape (224, 224) will be loaded as the default.\n",
            "  warnings.warn('`input_shape` is undefined or non-square, '\n"
          ],
          "name": "stderr"
        },
        {
          "output_type": "stream",
          "text": [
            "Downloading data from https://github.com/JonathanCMitchell/mobilenet_v2_keras/releases/download/v1.1/mobilenet_v2_weights_tf_dim_ordering_tf_kernels_1.0_224_no_top.h5\n",
            "9412608/9406464 [==============================] - 0s 0us/step\n"
          ],
          "name": "stdout"
        }
      ]
    },
    {
      "cell_type": "code",
      "metadata": {
        "id": "k_ch-9JmSUUj",
        "colab_type": "code",
        "colab": {
          "base_uri": "https://localhost:8080/",
          "height": 54
        },
        "outputId": "ec05a740-3392-4788-cc8b-841047b6fbef"
      },
      "source": [
        "train_data_generator = ImageDataGenerator(\n",
        "    horizontal_flip = True, \n",
        "    rescale = 1./255,\n",
        "    rotation_range = 20,\n",
        "    zoom_range=0.15,\n",
        "    width_shift_range = 0.2, \n",
        "    height_shift_range = 0.2, \n",
        "    shear_range=0.15,\n",
        "    fill_mode = \"nearest\"\n",
        ")\n",
        "\n",
        "valid_data_generator = ImageDataGenerator(\n",
        "    rescale = 1./255\n",
        ")\n",
        "train_generator = train_data_generator.flow_from_directory(\n",
        "    train_path, \n",
        "    target_size = (image_width, image_width),\n",
        "    class_mode = 'categorical'\n",
        ")\n",
        "valid_generator = valid_data_generator.flow_from_directory(\n",
        "    valid_path,\n",
        "    target_size = (image_width, image_width),\n",
        "    class_mode = 'categorical'\n",
        "\n",
        ")"
      ],
      "execution_count": 5,
      "outputs": [
        {
          "output_type": "stream",
          "text": [
            "Found 1101 images belonging to 2 classes.\n",
            "Found 275 images belonging to 2 classes.\n"
          ],
          "name": "stdout"
        }
      ]
    },
    {
      "cell_type": "code",
      "metadata": {
        "id": "XPMl1cX-ZNOx",
        "colab_type": "code",
        "colab": {
          "base_uri": "https://localhost:8080/",
          "height": 1000
        },
        "outputId": "1baeb87f-32f1-44d8-ba2d-a879c7a01333"
      },
      "source": [
        "model.fit_generator(train_generator, \n",
        "                    steps_per_epoch=552//batch_size,\n",
        "                    validation_data = valid_generator,\n",
        "                    validation_steps = 138//batch_size,\n",
        "                    epochs = 50\n",
        "                    )"
      ],
      "execution_count": 16,
      "outputs": [
        {
          "output_type": "stream",
          "text": [
            "Epoch 1/50\n",
            "17/17 [==============================] - 62s 4s/step - loss: 0.1235 - accuracy: 0.9596 - val_loss: 0.0606 - val_accuracy: 0.9609\n",
            "Epoch 2/50\n",
            "17/17 [==============================] - 54s 3s/step - loss: 0.1451 - accuracy: 0.9505 - val_loss: 0.0544 - val_accuracy: 0.9609\n",
            "Epoch 3/50\n",
            "17/17 [==============================] - 58s 3s/step - loss: 0.1371 - accuracy: 0.9448 - val_loss: 0.0895 - val_accuracy: 0.9652\n",
            "Epoch 4/50\n",
            "17/17 [==============================] - 61s 4s/step - loss: 0.1298 - accuracy: 0.9485 - val_loss: 0.0423 - val_accuracy: 0.9844\n",
            "Epoch 5/50\n",
            "17/17 [==============================] - 66s 4s/step - loss: 0.1176 - accuracy: 0.9651 - val_loss: 0.0331 - val_accuracy: 0.9826\n",
            "Epoch 6/50\n",
            "17/17 [==============================] - 43s 3s/step - loss: 0.1303 - accuracy: 0.9524 - val_loss: 0.0321 - val_accuracy: 0.9922\n",
            "Epoch 7/50\n",
            "17/17 [==============================] - 49s 3s/step - loss: 0.1145 - accuracy: 0.9504 - val_loss: 0.0112 - val_accuracy: 0.9652\n",
            "Epoch 8/50\n",
            "17/17 [==============================] - 43s 3s/step - loss: 0.1940 - accuracy: 0.9295 - val_loss: 0.0740 - val_accuracy: 0.9453\n",
            "Epoch 9/50\n",
            "17/17 [==============================] - 48s 3s/step - loss: 0.1075 - accuracy: 0.9614 - val_loss: 0.0454 - val_accuracy: 0.9913\n",
            "Epoch 10/50\n",
            "17/17 [==============================] - 45s 3s/step - loss: 0.1050 - accuracy: 0.9695 - val_loss: 0.1697 - val_accuracy: 0.9609\n",
            "Epoch 11/50\n",
            "17/17 [==============================] - 49s 3s/step - loss: 0.1067 - accuracy: 0.9688 - val_loss: 0.0384 - val_accuracy: 0.9922\n",
            "Epoch 12/50\n",
            "17/17 [==============================] - 43s 3s/step - loss: 0.1107 - accuracy: 0.9524 - val_loss: 0.1221 - val_accuracy: 0.9652\n",
            "Epoch 13/50\n",
            "17/17 [==============================] - 48s 3s/step - loss: 0.0991 - accuracy: 0.9651 - val_loss: 0.0480 - val_accuracy: 0.9922\n",
            "Epoch 14/50\n",
            "17/17 [==============================] - 44s 3s/step - loss: 0.1141 - accuracy: 0.9524 - val_loss: 0.0626 - val_accuracy: 0.9826\n",
            "Epoch 15/50\n",
            "17/17 [==============================] - 48s 3s/step - loss: 0.1026 - accuracy: 0.9614 - val_loss: 0.1083 - val_accuracy: 0.9844\n",
            "Epoch 16/50\n",
            "17/17 [==============================] - 45s 3s/step - loss: 0.0849 - accuracy: 0.9688 - val_loss: 0.0183 - val_accuracy: 0.9739\n",
            "Epoch 17/50\n",
            "17/17 [==============================] - 48s 3s/step - loss: 0.0756 - accuracy: 0.9714 - val_loss: 0.1634 - val_accuracy: 0.9531\n",
            "Epoch 18/50\n",
            "17/17 [==============================] - 47s 3s/step - loss: 0.0897 - accuracy: 0.9632 - val_loss: 0.1014 - val_accuracy: 0.9913\n",
            "Epoch 19/50\n",
            "17/17 [==============================] - 46s 3s/step - loss: 0.0802 - accuracy: 0.9810 - val_loss: 0.0081 - val_accuracy: 0.9766\n",
            "Epoch 20/50\n",
            "17/17 [==============================] - 46s 3s/step - loss: 0.0786 - accuracy: 0.9638 - val_loss: 0.1811 - val_accuracy: 0.9766\n",
            "Epoch 21/50\n",
            "17/17 [==============================] - 47s 3s/step - loss: 0.0820 - accuracy: 0.9724 - val_loss: 0.2278 - val_accuracy: 0.9652\n",
            "Epoch 22/50\n",
            "17/17 [==============================] - 49s 3s/step - loss: 0.0600 - accuracy: 0.9835 - val_loss: 0.0748 - val_accuracy: 0.9922\n",
            "Epoch 23/50\n",
            "17/17 [==============================] - 48s 3s/step - loss: 0.1284 - accuracy: 0.9448 - val_loss: 0.0184 - val_accuracy: 0.9913\n",
            "Epoch 24/50\n",
            "17/17 [==============================] - 48s 3s/step - loss: 0.0961 - accuracy: 0.9638 - val_loss: 0.0677 - val_accuracy: 0.9688\n",
            "Epoch 25/50\n",
            "17/17 [==============================] - 48s 3s/step - loss: 0.0638 - accuracy: 0.9798 - val_loss: 0.0390 - val_accuracy: 0.9739\n",
            "Epoch 26/50\n",
            "17/17 [==============================] - 49s 3s/step - loss: 0.0818 - accuracy: 0.9724 - val_loss: 0.1806 - val_accuracy: 0.9688\n",
            "Epoch 27/50\n",
            "17/17 [==============================] - 48s 3s/step - loss: 0.0937 - accuracy: 0.9581 - val_loss: 0.0110 - val_accuracy: 1.0000\n",
            "Epoch 28/50\n",
            "17/17 [==============================] - 48s 3s/step - loss: 0.0842 - accuracy: 0.9638 - val_loss: 0.0044 - val_accuracy: 0.9922\n",
            "Epoch 29/50\n",
            "17/17 [==============================] - 49s 3s/step - loss: 0.0725 - accuracy: 0.9743 - val_loss: 0.0375 - val_accuracy: 0.9766\n",
            "Epoch 30/50\n",
            "17/17 [==============================] - 49s 3s/step - loss: 0.0668 - accuracy: 0.9790 - val_loss: 0.0255 - val_accuracy: 0.9739\n",
            "Epoch 31/50\n",
            "17/17 [==============================] - 50s 3s/step - loss: 0.0644 - accuracy: 0.9724 - val_loss: 0.0449 - val_accuracy: 0.9766\n",
            "Epoch 32/50\n",
            "17/17 [==============================] - 49s 3s/step - loss: 0.0748 - accuracy: 0.9695 - val_loss: 0.0740 - val_accuracy: 0.9739\n",
            "Epoch 33/50\n",
            "17/17 [==============================] - 50s 3s/step - loss: 0.1038 - accuracy: 0.9614 - val_loss: 0.0156 - val_accuracy: 0.9922\n",
            "Epoch 34/50\n",
            "17/17 [==============================] - 50s 3s/step - loss: 0.0899 - accuracy: 0.9706 - val_loss: 0.0283 - val_accuracy: 0.9913\n",
            "Epoch 35/50\n",
            "17/17 [==============================] - 49s 3s/step - loss: 0.0577 - accuracy: 0.9752 - val_loss: 0.0914 - val_accuracy: 0.9844\n",
            "Epoch 36/50\n",
            "17/17 [==============================] - 49s 3s/step - loss: 0.0909 - accuracy: 0.9676 - val_loss: 0.0061 - val_accuracy: 0.9652\n",
            "Epoch 37/50\n",
            "17/17 [==============================] - 47s 3s/step - loss: 0.0679 - accuracy: 0.9724 - val_loss: 0.0470 - val_accuracy: 0.9688\n",
            "Epoch 38/50\n",
            "17/17 [==============================] - 53s 3s/step - loss: 0.0769 - accuracy: 0.9651 - val_loss: 0.0426 - val_accuracy: 0.9844\n",
            "Epoch 39/50\n",
            "17/17 [==============================] - 45s 3s/step - loss: 0.0523 - accuracy: 0.9829 - val_loss: 0.1050 - val_accuracy: 0.9826\n",
            "Epoch 40/50\n",
            "17/17 [==============================] - 52s 3s/step - loss: 0.0835 - accuracy: 0.9657 - val_loss: 0.1799 - val_accuracy: 0.9766\n",
            "Epoch 41/50\n",
            "17/17 [==============================] - 47s 3s/step - loss: 0.0745 - accuracy: 0.9706 - val_loss: 0.0325 - val_accuracy: 1.0000\n",
            "Epoch 42/50\n",
            "17/17 [==============================] - 54s 3s/step - loss: 0.0749 - accuracy: 0.9688 - val_loss: 0.0152 - val_accuracy: 0.9844\n",
            "Epoch 43/50\n",
            "17/17 [==============================] - 46s 3s/step - loss: 0.0734 - accuracy: 0.9657 - val_loss: 0.0203 - val_accuracy: 0.9652\n",
            "Epoch 44/50\n",
            "17/17 [==============================] - 49s 3s/step - loss: 0.0940 - accuracy: 0.9614 - val_loss: 0.0335 - val_accuracy: 0.9844\n",
            "Epoch 45/50\n",
            "17/17 [==============================] - 43s 3s/step - loss: 0.0769 - accuracy: 0.9714 - val_loss: 0.1223 - val_accuracy: 0.9652\n",
            "Epoch 46/50\n",
            "17/17 [==============================] - 49s 3s/step - loss: 0.0509 - accuracy: 0.9835 - val_loss: 0.0139 - val_accuracy: 0.9922\n",
            "Epoch 47/50\n",
            "17/17 [==============================] - 43s 3s/step - loss: 0.0515 - accuracy: 0.9848 - val_loss: 0.0762 - val_accuracy: 0.9766\n",
            "Epoch 48/50\n",
            "17/17 [==============================] - 48s 3s/step - loss: 0.0455 - accuracy: 0.9816 - val_loss: 0.0477 - val_accuracy: 0.9565\n",
            "Epoch 49/50\n",
            "17/17 [==============================] - 43s 3s/step - loss: 0.0574 - accuracy: 0.9848 - val_loss: 0.0432 - val_accuracy: 1.0000\n",
            "Epoch 50/50\n",
            "17/17 [==============================] - 47s 3s/step - loss: 0.0708 - accuracy: 0.9706 - val_loss: 0.0063 - val_accuracy: 0.9913\n"
          ],
          "name": "stdout"
        },
        {
          "output_type": "execute_result",
          "data": {
            "text/plain": [
              "<keras.callbacks.callbacks.History at 0x7f319c565da0>"
            ]
          },
          "metadata": {
            "tags": []
          },
          "execution_count": 16
        }
      ]
    },
    {
      "cell_type": "code",
      "metadata": {
        "id": "uqsWqefLkYGD",
        "colab_type": "code",
        "colab": {}
      },
      "source": [
        "model.save('face_mask_detection.h5')\n",
        "model.save_weights('face_mask_detection_weights.h5')\n",
        "model_json = model.to_json()\n",
        "with open(\"face_mask_detection.json\", \"w\") as json_file:\n",
        "    json_file.write(model_json)\n",
        "\n",
        "model.save('mask_detector.model')"
      ],
      "execution_count": 17,
      "outputs": []
    },
    {
      "cell_type": "code",
      "metadata": {
        "id": "WJweyoKSVEVm",
        "colab_type": "code",
        "colab": {}
      },
      "source": [
        "model.save('mask_detector.model')"
      ],
      "execution_count": 15,
      "outputs": []
    }
  ]
}